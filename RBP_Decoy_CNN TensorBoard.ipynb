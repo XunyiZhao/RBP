{
 "cells": [
  {
   "cell_type": "code",
   "execution_count": 3,
   "metadata": {
    "collapsed": false
   },
   "outputs": [],
   "source": [
    "import numpy as np\n",
    "from tqdm import tqdm\n",
    "import random as rd"
   ]
  },
  {
   "cell_type": "code",
   "execution_count": 4,
   "metadata": {
    "collapsed": false
   },
   "outputs": [
    {
     "data": {
      "text/plain": [
       "20"
      ]
     },
     "execution_count": 4,
     "metadata": {},
     "output_type": "execute_result"
    }
   ],
   "source": [
    "RBP='1A34 1AQ3 1BMV 1F7V 1H4Q 1JBT 1L9A 1MZP 1WMQ 1YYK 1ZL3 2ANN 2ATW 2AZ2 2BX2 2DR2 2DU4 2G4B 2GXB 3AMT'\n",
    "#the rbp we gonna analyze\n",
    "rbp=RBP.split()\n",
    "len(rbp)"
   ]
  },
  {
   "cell_type": "code",
   "execution_count": 5,
   "metadata": {
    "collapsed": false
   },
   "outputs": [
    {
     "data": {
      "text/plain": [
       "38"
      ]
     },
     "execution_count": 5,
     "metadata": {},
     "output_type": "execute_result"
    }
   ],
   "source": [
    "name=[]\n",
    "for i in range(20):\n",
    "    f = open(rbp[i]+'/complex1.pdb')\n",
    "    for x in f.readlines():\n",
    "        if x.split()[3] not in name:\n",
    "            name.append(x.split()[3])\n",
    "    f.close()\n",
    "len(name)"
   ]
  },
  {
   "cell_type": "code",
   "execution_count": 6,
   "metadata": {
    "collapsed": false
   },
   "outputs": [],
   "source": [
    "protein = ['THR',\n",
    " 'GLY',\n",
    " 'ASP',\n",
    " 'ASN',\n",
    " 'SER',\n",
    " 'VAL',\n",
    " 'MET',\n",
    " 'ILE',\n",
    " 'ARG',\n",
    " 'ALA',\n",
    " 'TYR',\n",
    " 'PRO',\n",
    " 'LYS',\n",
    " 'TRP',\n",
    " 'PHE',\n",
    " 'GLU',\n",
    " 'GLN',\n",
    " 'LEU',\n",
    " 'HIS',\n",
    " 'CYS',\n",
    " 'A',\n",
    " 'G',\n",
    " 'C',\n",
    " 'U']"
   ]
  },
  {
   "cell_type": "code",
   "execution_count": 7,
   "metadata": {
    "collapsed": false
   },
   "outputs": [],
   "source": [
    "num = 24\n",
    "comp_num = 1000\n",
    "total = 20*comp_num"
   ]
  },
  {
   "cell_type": "code",
   "execution_count": 8,
   "metadata": {
    "collapsed": false
   },
   "outputs": [
    {
     "name": "stderr",
     "output_type": "stream",
     "text": [
      "  0%|          | 0/20 [00:00<?, ?it/s]\n"
     ]
    },
    {
     "ename": "KeyboardInterrupt",
     "evalue": "",
     "output_type": "error",
     "traceback": [
      "\u001b[0;31m---------------------------------------------------------------------------\u001b[0m",
      "\u001b[0;31mKeyboardInterrupt\u001b[0m                         Traceback (most recent call last)",
      "\u001b[0;32m<ipython-input-8-f12b28ec9564>\u001b[0m in \u001b[0;36m<module>\u001b[0;34m()\u001b[0m\n\u001b[1;32m      9\u001b[0m         \u001b[0mtmp_y\u001b[0m \u001b[0;34m=\u001b[0m \u001b[0;34m[\u001b[0m\u001b[0;34m]\u001b[0m\u001b[0;34m\u001b[0m\u001b[0m\n\u001b[1;32m     10\u001b[0m         \u001b[0mtmp_z\u001b[0m \u001b[0;34m=\u001b[0m \u001b[0;34m[\u001b[0m\u001b[0;34m]\u001b[0m\u001b[0;34m\u001b[0m\u001b[0m\n\u001b[0;32m---> 11\u001b[0;31m         \u001b[0;32mfor\u001b[0m \u001b[0mx\u001b[0m \u001b[0;32min\u001b[0m \u001b[0mf\u001b[0m\u001b[0;34m.\u001b[0m\u001b[0mreadlines\u001b[0m\u001b[0;34m(\u001b[0m\u001b[0;34m)\u001b[0m\u001b[0;34m:\u001b[0m\u001b[0;34m\u001b[0m\u001b[0m\n\u001b[0m\u001b[1;32m     12\u001b[0m             \u001b[0mtmp_z\u001b[0m\u001b[0;34m.\u001b[0m\u001b[0mappend\u001b[0m\u001b[0;34m(\u001b[0m\u001b[0mnp\u001b[0m\u001b[0;34m.\u001b[0m\u001b[0mfloat32\u001b[0m\u001b[0;34m(\u001b[0m\u001b[0mx\u001b[0m\u001b[0;34m[\u001b[0m\u001b[0;34m-\u001b[0m\u001b[0;36m9\u001b[0m\u001b[0;34m:\u001b[0m\u001b[0;34m-\u001b[0m\u001b[0;36m1\u001b[0m\u001b[0;34m]\u001b[0m\u001b[0;34m)\u001b[0m\u001b[0;34m)\u001b[0m\u001b[0;34m\u001b[0m\u001b[0m\n\u001b[1;32m     13\u001b[0m             \u001b[0mtmp_y\u001b[0m\u001b[0;34m.\u001b[0m\u001b[0mappend\u001b[0m\u001b[0;34m(\u001b[0m\u001b[0mnp\u001b[0m\u001b[0;34m.\u001b[0m\u001b[0mfloat32\u001b[0m\u001b[0;34m(\u001b[0m\u001b[0mx\u001b[0m\u001b[0;34m[\u001b[0m\u001b[0;34m-\u001b[0m\u001b[0;36m17\u001b[0m\u001b[0;34m:\u001b[0m\u001b[0;34m-\u001b[0m\u001b[0;36m9\u001b[0m\u001b[0;34m]\u001b[0m\u001b[0;34m)\u001b[0m\u001b[0;34m)\u001b[0m\u001b[0;34m\u001b[0m\u001b[0m\n",
      "\u001b[0;32m/home/shawn/ENTER/lib/python3.6/codecs.py\u001b[0m in \u001b[0;36mdecode\u001b[0;34m(self, input, final)\u001b[0m\n\u001b[1;32m    316\u001b[0m         \u001b[0;32mraise\u001b[0m \u001b[0mNotImplementedError\u001b[0m\u001b[0;34m\u001b[0m\u001b[0m\n\u001b[1;32m    317\u001b[0m \u001b[0;34m\u001b[0m\u001b[0m\n\u001b[0;32m--> 318\u001b[0;31m     \u001b[0;32mdef\u001b[0m \u001b[0mdecode\u001b[0m\u001b[0;34m(\u001b[0m\u001b[0mself\u001b[0m\u001b[0;34m,\u001b[0m \u001b[0minput\u001b[0m\u001b[0;34m,\u001b[0m \u001b[0mfinal\u001b[0m\u001b[0;34m=\u001b[0m\u001b[0;32mFalse\u001b[0m\u001b[0;34m)\u001b[0m\u001b[0;34m:\u001b[0m\u001b[0;34m\u001b[0m\u001b[0m\n\u001b[0m\u001b[1;32m    319\u001b[0m         \u001b[0;31m# decode input (taking the buffer into account)\u001b[0m\u001b[0;34m\u001b[0m\u001b[0;34m\u001b[0m\u001b[0m\n\u001b[1;32m    320\u001b[0m         \u001b[0mdata\u001b[0m \u001b[0;34m=\u001b[0m \u001b[0mself\u001b[0m\u001b[0;34m.\u001b[0m\u001b[0mbuffer\u001b[0m \u001b[0;34m+\u001b[0m \u001b[0minput\u001b[0m\u001b[0;34m\u001b[0m\u001b[0m\n",
      "\u001b[0;31mKeyboardInterrupt\u001b[0m: "
     ]
    }
   ],
   "source": [
    "#measure the size of the RBP\n",
    "\n",
    "size=np.zeros([20,comp_num,6])\n",
    "for i in tqdm(range(20)):#for every rbp\n",
    "    for j in range(comp_num):\n",
    "        r=rbp[i]\n",
    "        f = open(r+'/complex%d.pdb'%(j+1))\n",
    "        tmp_x = []\n",
    "        tmp_y = []\n",
    "        tmp_z = []\n",
    "        for x in f.readlines():\n",
    "            tmp_z.append(np.float32(x[-9:-1]))\n",
    "            tmp_y.append(np.float32(x[-17:-9]))\n",
    "            tmp_x.append(np.float32(x[-25:-17]))\n",
    "        size[i,j,0]=max(tmp_x)\n",
    "        size[i,j,3]=min(tmp_x)\n",
    "        size[i,j,1]=max(tmp_y)\n",
    "        size[i,j,4]=min(tmp_y)\n",
    "        size[i,j,2]=max(tmp_z)\n",
    "        size[i,j,5]=min(tmp_z)\n"
   ]
  },
  {
   "cell_type": "code",
   "execution_count": 47,
   "metadata": {
    "collapsed": false
   },
   "outputs": [
    {
     "name": "stderr",
     "output_type": "stream",
     "text": [
      "100%|██████████| 20/20 [57:06<00:00, 168.85s/it]\n"
     ]
    }
   ],
   "source": [
    "length=np.zeros([20,comp_num,3])\n",
    "length[:,:,0]=(size[:,:,0]-size[:,:,3])/num\n",
    "length[:,:,1]=(size[:,:,1]-size[:,:,4])/num\n",
    "length[:,:,2]=(size[:,:,2]-size[:,:,5])/num\n",
    "for k in tqdm(range(20)):#for every rbp\n",
    "    coordinate=np.zeros((comp_num,num,num,num,24),dtype = int)\n",
    "    for j in range(comp_num):\n",
    "        r=rbp[k]\n",
    "        f = open(r+'/complex%d.pdb'%(j+1))\n",
    "        t=f.readlines()[0].split()[-4]\n",
    "        cotmp=np.zeros(4)\n",
    "        f = open(r+'/complex%d.pdb'%(j+1))\n",
    "        for x in f.readlines():\n",
    "            #print(x)\n",
    "            if x[22:26]!=t and cotmp[3]!=0:\n",
    "                #print(cotmp,t,tmp)\n",
    "                position = cotmp[0:3]/cotmp[3]-size[k,j,3:]\n",
    "                #print(cotmp[0:3]/cotmp[3])\n",
    "                ix=position[0]//length[k,j,0]\n",
    "                iy=position[1]//length[k,j,1]\n",
    "                iz=position[2]//length[k,j,2]\n",
    "                #if ix > 10:\n",
    "                    #print(k,j,position)\n",
    "                if i < 24:\n",
    "                    coordinate[j,int(ix),int(iy),int(iz),i]+=1\n",
    "                cotmp=np.zeros(4)\n",
    "            #save center of the acid or RNA in coord\n",
    "\n",
    "            tmp=np.zeros(4)\n",
    "            tmp[2]+=np.float32(x[-9:-1])\n",
    "            tmp[1]+=np.float32(x[-17:-9])\n",
    "            tmp[0]+=np.float32(x[-25:-17])\n",
    "            tmp[3]+=1\n",
    "            #print(tmp)\n",
    "            cotmp+=tmp\n",
    "\n",
    "            #count every atom in each acid or RNA\n",
    "\n",
    "            n =x.split()[3]\n",
    "            i = name.index(n)     \n",
    "            t =x[22:26]\n",
    "            #update the tmp index \n",
    "    coordi = coordinate.reshape([comp_num,num*num*num*24])\n",
    "    np.savetxt(protein[k]+'24',coordi,fmt = '%.0e')\n",
    "    f.close() "
   ]
  },
  {
   "cell_type": "code",
   "execution_count": 8,
   "metadata": {
    "collapsed": false
   },
   "outputs": [],
   "source": [
    "index = list(range(total))\n",
    "rd.shuffle(index)\n",
    "train_index = index[:-300]\n",
    "test_index = index[-300:]"
   ]
  },
  {
   "cell_type": "code",
   "execution_count": 9,
   "metadata": {
    "collapsed": false
   },
   "outputs": [],
   "source": [
    "train_coordinate = coordinate.reshape(20*comp_num,num,num,num,24)[train_index]\n",
    "test_coordinate = coordinate.reshape(20*comp_num,num,num,num,24)[test_index]"
   ]
  },
  {
   "cell_type": "code",
   "execution_count": 13,
   "metadata": {
    "collapsed": true
   },
   "outputs": [],
   "source": [
    "target = np.zeros((20,comp_num))\n",
    "\n",
    "for k in range(20):\n",
    "    tmp=[]\n",
    "    f=open(rbp[k]+'/'+rbp[k]+'.rmsd.out.tensorflow')\n",
    "    for x in f.readlines()[1:]:\n",
    "        tmp.append(np.float32(x[23:32]))\n",
    "    target[k]=np.float32(tmp[0:comp_num])"
   ]
  },
  {
   "cell_type": "code",
   "execution_count": 11,
   "metadata": {
    "collapsed": false
   },
   "outputs": [],
   "source": [
    "train_target = target.reshape(20*comp_num,1)[train_index]\n",
    "test_target = target.reshape(20*comp_num,1)[test_index]"
   ]
  },
  {
   "cell_type": "code",
   "execution_count": 9,
   "metadata": {
    "collapsed": false
   },
   "outputs": [],
   "source": [
    "import tensorflow as tf\n",
    "sess = tf.InteractiveSession()"
   ]
  },
  {
   "cell_type": "code",
   "execution_count": 7,
   "metadata": {
    "collapsed": false
   },
   "outputs": [],
   "source": [
    "x = tf.placeholder(tf.float32, shape=[None,  num, num, num, 24], name='x_')\n",
    "y_ = tf.placeholder(tf.float32, shape=[None, 1], name='y_')"
   ]
  },
  {
   "cell_type": "code",
   "execution_count": 8,
   "metadata": {
    "collapsed": false
   },
   "outputs": [
    {
     "data": {
      "text/plain": [
       "24"
      ]
     },
     "execution_count": 8,
     "metadata": {},
     "output_type": "execute_result"
    }
   ],
   "source": [
    "num"
   ]
  },
  {
   "cell_type": "code",
   "execution_count": 9,
   "metadata": {
    "collapsed": false
   },
   "outputs": [],
   "source": [
    "def conv3d(x, W):\n",
    "    return tf.nn.conv3d(x, W, strides=[1, 1, 1, 1, 1], padding='SAME')\n",
    "\n",
    "def max_pool_2x2x2(x,layer_name):\n",
    "    with tf.name_scope(layer_name):\n",
    "        pool = tf.nn.max_pool3d(x, ksize=[1, 2, 2, 2, 1],\n",
    "                            strides=[1, 2, 2, 2, 1], padding='SAME',name='pool')\n",
    "        tf.summary.histogram('pool', pool)\n",
    "        return pool\n",
    "    \n",
    "def weight_variable(shape):\n",
    "    initial = tf.truncated_normal(shape, stddev=0.1)\n",
    "    return tf.Variable(initial)\n",
    "\n",
    "def bias_variable(shape):\n",
    "    initial = tf.constant(0.1, shape=shape)\n",
    "    return tf.Variable(initial)\n",
    "def random_batch(data,label,size):\n",
    "    index =  np.random.choice(len(label), size, replace=False)\n",
    "    batch_data = data[index]\n",
    "    batch_label = label[index]\n",
    "    return batch_data,batch_label\n",
    "\n",
    "def variable_summaries(var):\n",
    "    with tf.name_scope('summaries'):\n",
    "        mean = tf.reduce_mean(var)\n",
    "        tf.summary.scalar('mean', mean)\n",
    "        with tf.name_scope('stddev'):\n",
    "            stddev = tf.sqrt(tf.reduce_mean(tf.square(var - mean)))\n",
    "        tf.summary.scalar('stddev', stddev)\n",
    "        tf.summary.scalar('max', tf.reduce_max(var))\n",
    "        tf.summary.scalar('min', tf.reduce_min(var))\n",
    "        tf.summary.histogram('histogram', var)\n",
    "        \n",
    "def conv_layer(input_tensor,weight_dim, input_dim, output_dim, layer_name, act=tf.nn.relu):\n",
    "    \"\"\"Reusable code for making a simple neural net layer.\n",
    "\n",
    "    It does a matrix multiply, bias add, and then uses relu to nonlinearize.\n",
    "    It also sets up name scoping so that the resultant graph is easy to read,\n",
    "    and adds a number of summary ops.\n",
    "    \"\"\"\n",
    "    # Adding a name scope ensures logical grouping of the layers in the graph.\n",
    "    with tf.name_scope(layer_name):\n",
    "        # This Variable will hold the state of the weights for the layer\n",
    "        with tf.name_scope('weights'):\n",
    "            weights = weight_variable([weight_dim[0],weight_dim[1],weight_dim[2], input_dim,output_dim])\n",
    "            variable_summaries(weights)\n",
    "        with tf.name_scope('biases'):\n",
    "            biases = bias_variable([output_dim])\n",
    "            variable_summaries(biases)\n",
    "        with tf.name_scope('Wx_plus_b'):\n",
    "            preactivate = conv3d(input_tensor, weights) + biases\n",
    "            tf.summary.histogram('pre_activations', preactivate)\n",
    "        activations = act(preactivate, name='activation')\n",
    "        tf.summary.histogram('activations', activations)\n",
    "        return activations\n",
    "    \n",
    "def dropout_layer(x,layer_name,keep_prob=0.5):\n",
    "    with tf.name_scope(layer_name):\n",
    "        drop = tf.nn.dropout(x, keep_prob)\n",
    "        tf.summary.histogram('dropped', drop)\n",
    "        return drop\n",
    "    \n",
    "\n",
    "def nn_layer(input_tensor, input_dim, output_dim, layer_name, act=tf.nn.relu):\n",
    "    # Adding a name scope ensures logical grouping of the layers in the graph.\n",
    "    with tf.name_scope(layer_name):\n",
    "    # This Variable will hold the state of the weights for the layer\n",
    "        with tf.name_scope('weights'):\n",
    "            weights = weight_variable([input_dim, output_dim])\n",
    "            variable_summaries(weights)\n",
    "        with tf.name_scope('biases'):\n",
    "            biases = bias_variable([output_dim])\n",
    "            variable_summaries(biases)\n",
    "        with tf.name_scope('Wx_plus_b'):\n",
    "            preactivate = tf.matmul(input_tensor, weights) + biases\n",
    "            tf.summary.histogram('pre_activations', preactivate)\n",
    "    activations = act(preactivate, name='activation')\n",
    "    tf.summary.histogram('activations', activations)\n",
    "    return activations"
   ]
  },
  {
   "cell_type": "code",
   "execution_count": 10,
   "metadata": {
    "collapsed": false
   },
   "outputs": [],
   "source": [
    "x_image = tf.cast(tf.reshape(x, [-1, num, num, num, 24]),tf.float32)"
   ]
  },
  {
   "cell_type": "code",
   "execution_count": 11,
   "metadata": {
    "collapsed": false
   },
   "outputs": [],
   "source": [
    "h_conv1 = conv_layer(x_image,[3,3,3],24,32,'conv1')\n",
    "h_conv2 = conv_layer(h_conv1,[6,6,6],32,32,'conv2')\n",
    "h_pool1 = max_pool_2x2x2(h_conv2,'pool1')\n",
    "\n",
    "h_conv3 = conv_layer(h_pool1,[4,4,4],32,32,'conv3')\n",
    "h_conv4 = conv_layer(h_conv3,[5,5,5],32,32,'conv4')\n",
    "h_pool2 = max_pool_2x2x2(h_conv4,'pool2')"
   ]
  },
  {
   "cell_type": "code",
   "execution_count": 12,
   "metadata": {
    "collapsed": false
   },
   "outputs": [],
   "source": [
    "h_flat1 = tf.reshape(h_pool2, [-1, int(num * num* num /2)])\n",
    "h_fc1 = nn_layer(h_flat1,int(num * num* num /2),256,'fc1')\n"
   ]
  },
  {
   "cell_type": "code",
   "execution_count": 13,
   "metadata": {
    "collapsed": true
   },
   "outputs": [],
   "source": [
    "keep_prob = tf.placeholder(tf.float32, name='keep_prob0')\n",
    "h_drop = dropout_layer(h_fc1,'dropout', keep_prob)"
   ]
  },
  {
   "cell_type": "code",
   "execution_count": 14,
   "metadata": {
    "collapsed": true
   },
   "outputs": [],
   "source": [
    "y_conv = nn_layer(h_drop,256,1,'output')"
   ]
  },
  {
   "cell_type": "markdown",
   "metadata": {
    "collapsed": false
   },
   "source": [
    "\n",
    "W_conv1 = weight_variable([3, 3, 3, 24, 32])\n",
    "b_conv1 = bias_variable([32])\n",
    "h_conv1 = tf.nn.relu(conv3d(x_image, W_conv1) + b_conv1)\n",
    "\n",
    "W_conv2 = weight_variable([5, 5, 5, 32, 32])\n",
    "b_conv2 = bias_variable([32])\n",
    "h_conv2 = tf.nn.relu(conv3d(h_conv1, W_conv2) + b_conv2)\n",
    "\n",
    "h_pool1 = max_pool_2x2x2(h_conv1)"
   ]
  },
  {
   "cell_type": "markdown",
   "metadata": {
    "collapsed": false
   },
   "source": [
    "W_conv3 = weight_variable([4, 4, 4, 32, 32])\n",
    "b_conv3 = bias_variable([32])\n",
    "h_conv3 = tf.nn.relu(conv3d(h_pool1, W_conv3) + b_conv3)\n",
    "\n",
    "W_conv4 = weight_variable([5, 5, 5, 32, 32])\n",
    "b_conv4 = bias_variable([32])\n",
    "h_conv4 = tf.nn.relu(conv3d(h_conv3, W_conv4) + b_conv4)\n",
    "\n",
    "h_pool2 = max_pool_2x2x2(h_conv4)"
   ]
  },
  {
   "cell_type": "markdown",
   "metadata": {
    "collapsed": false
   },
   "source": [
    "W_fc1 = weight_variable([int(num* num *num/2), 128])\n",
    "b_fc1 = bias_variable([128])\n",
    "\n",
    "h_pool2_flat = tf.reshape(h_pool2, [-1, int(num * num* num /2)])\n",
    "h_fc1 = tf.nn.relu(tf.matmul(h_pool2_flat, W_fc1) + b_fc1)"
   ]
  },
  {
   "cell_type": "markdown",
   "metadata": {
    "collapsed": false
   },
   "source": [
    "keep_prob = tf.placeholder(tf.float32, name='keep_prob0')\n",
    "h_fc1_drop = tf.nn.dropout(h_fc1, keep_prob)"
   ]
  },
  {
   "cell_type": "markdown",
   "metadata": {
    "collapsed": true
   },
   "source": [
    "W_fc2 = weight_variable([128, 128])\n",
    "b_fc2 = bias_variable([128])\n",
    "\n",
    "y_conv = tf.abs(tf.add(tf.matmul(h_fc1_drop, W_fc2) , b_fc2),name='y_conv')"
   ]
  },
  {
   "cell_type": "code",
   "execution_count": 15,
   "metadata": {
    "collapsed": true
   },
   "outputs": [],
   "source": [
    "with tf.name_scope('loss'):\n",
    "    loss = tf.reduce_mean(tf.squared_difference(y_,y_conv), name='loss')\n",
    "    tf.summary.scalar('loss',loss)\n",
    "\n",
    "with tf.name_scope('train'):\n",
    "    train_step = tf.train.AdamOptimizer(5e-5).minimize(loss)\n",
    "    \n",
    "saver = tf.train.Saver()\n",
    "\n",
    "\n",
    "merged = tf.summary.merge_all()\n",
    "train_writer = tf.summary.FileWriter( './my-model9/train',\n",
    "                                      sess.graph)\n",
    "test_writer = tf.summary.FileWriter('./my-model9/test')"
   ]
  },
  {
   "cell_type": "code",
   "execution_count": 48,
   "metadata": {
    "collapsed": false
   },
   "outputs": [
    {
     "name": "stdout",
     "output_type": "stream",
     "text": [
      "step 0, test loss 2539.63\n",
      "step 50, test loss 609.166\n",
      "step 100, test loss 365.378\n",
      "step 150, test loss 387.944\n",
      "step 200, test loss 336.31\n",
      "step 250, test loss 219.58\n",
      "step 300, test loss 314.083\n",
      "step 350, test loss 156.367\n",
      "step 400, test loss 252.825\n",
      "step 450, test loss 172.949\n",
      "step 500, test loss 235.103\n",
      "step 550, test loss 199.1\n",
      "step 600, test loss 272.376\n",
      "step 650, test loss 155.669\n",
      "step 700, test loss 289.078\n",
      "step 750, test loss 179.893\n",
      "step 800, test loss 155.38\n",
      "step 850, test loss 231.538\n",
      "step 900, test loss 92.6684\n",
      "step 950, test loss 128.428\n",
      "step 1000, test loss 124.673\n",
      "step 1050, test loss 153.558\n",
      "step 1100, test loss 165.869\n",
      "step 1150, test loss 110.932\n",
      "step 1200, test loss 101.958\n",
      "step 1250, test loss 215.509\n",
      "step 1300, test loss 159.026\n",
      "step 1350, test loss 141.747\n",
      "step 1400, test loss 137.719\n",
      "step 1450, test loss 85.4829\n",
      "step 1500, test loss 98.5884\n",
      "step 1550, test loss 159.801\n",
      "step 1600, test loss 132.105\n",
      "step 1650, test loss 131.271\n",
      "step 1700, test loss 161.782\n",
      "step 1750, test loss 156.201\n",
      "step 1800, test loss 136.758\n",
      "step 1850, test loss 172.593\n",
      "step 1900, test loss 122.499\n",
      "step 1950, test loss 194.094\n",
      "step 2000, test loss 87.1161\n",
      "step 2050, test loss 140.722\n",
      "step 2100, test loss 194.979\n",
      "step 2150, test loss 156.658\n",
      "step 2200, test loss 129.731\n",
      "step 2250, test loss 143.076\n",
      "step 2300, test loss 137.711\n",
      "step 2350, test loss 158.298\n",
      "step 2400, test loss 180.194\n",
      "step 2450, test loss 121.577\n",
      "step 2500, test loss 103.879\n",
      "step 2550, test loss 165.208\n",
      "step 2600, test loss 134.571\n",
      "step 2650, test loss 153.11\n",
      "step 2700, test loss 158.031\n",
      "step 2750, test loss 144.321\n",
      "step 2800, test loss 80.7581\n",
      "step 2850, test loss 145.138\n",
      "step 2900, test loss 179.244\n",
      "step 2950, test loss 215.155\n",
      "step 3000, test loss 137.255\n"
     ]
    }
   ],
   "source": [
    "tf.global_variables_initializer().run()\n",
    "\n",
    "size = 30\n",
    "\n",
    "with tf.Session() as sess:\n",
    "    sess.run(tf.global_variables_initializer())\n",
    "    for i in range(3001):\n",
    "        batch = random_batch(train_coordinate,train_target,size)\n",
    "        summary, _ = sess.run([merged, train_step],feed_dict={x: batch[0], y_: batch[1], keep_prob: 0.5})  \n",
    "        train_writer.add_summary(summary, i)\n",
    "        if i % 50 == 0:\n",
    "            #train_accuracy = accuracy.eval(feed_dict={\n",
    "                  #x: np.float32(coordinate), y_: np.float32(target), keep_prob: 1.0})\n",
    "            test_batch = random_batch(test_coordinate,test_target,50)\n",
    "            summary, los = sess.run([merged, loss], feed_dict={\n",
    "                  x: test_batch[0], y_: test_batch[1], keep_prob: 1.0})\n",
    "            test_writer.add_summary(summary, i)\n",
    "            print('step %d, test loss %g' % (i, los))\n",
    "            #print('step %d, min pred %g' % (i, min(y_conv.eval(feed_dict={\n",
    "            #      x: test_batch[0], y_: test_batch[1], keep_prob: 1.0}))))\n",
    "        if i % 500 == 0:    \n",
    "            saver.save(sess, './my-model9/iter %d'%i)\n"
   ]
  },
  {
   "cell_type": "code",
   "execution_count": 10,
   "metadata": {
    "collapsed": false
   },
   "outputs": [],
   "source": [
    "import pickle\n",
    "\n",
    "def test_model(test_coordinate,test_target):\n",
    "    \"\"\"\n",
    "    Test the saved model against the test dataset\n",
    "    \"\"\"\n",
    "    save_model_path = './my-model6'\n",
    "    #test_features, test_labels = pickle.load(open('preprocess_test.p', mode='rb'))\n",
    "    loaded_graph = tf.Graph()\n",
    "\n",
    "    with tf.Session(graph=loaded_graph) as sess:\n",
    "        # Load model\n",
    "        loader = tf.train.import_meta_graph(save_model_path + '.meta')\n",
    "        loader.restore(sess, save_model_path)\n",
    "    \n",
    "        # Get Tensors from loaded model\n",
    "        loaded_x = loaded_graph.get_tensor_by_name('x_:0')\n",
    "        loaded_y = loaded_graph.get_tensor_by_name('y_:0')\n",
    "        loaded_keep_prob = loaded_graph.get_tensor_by_name('keep_prob0:0')\n",
    "        loaded_loss = loaded_graph.get_tensor_by_name('loss:0')\n",
    "        loaded_yconv = loaded_graph.get_tensor_by_name('y_conv:0')\n",
    "\n",
    "        predict_y = loaded_yconv.eval(feed_dict={loaded_x: test_coordinate,\n",
    "                                       loaded_y: test_target, loaded_keep_prob: 1.0})\n",
    "        real_y = loaded_y.eval(feed_dict={loaded_x: test_coordinate,\n",
    "                                       loaded_y: test_target, loaded_keep_prob: 1.0})       \n",
    "        #print(tf.nn.top_k(conseq,10,sorted=False))\n",
    "    return predict_y,real_y"
   ]
  },
  {
   "cell_type": "code",
   "execution_count": 11,
   "metadata": {
    "collapsed": true
   },
   "outputs": [],
   "source": [
    "tf.logging.set_verbosity(tf.logging.WARN)"
   ]
  },
  {
   "cell_type": "code",
   "execution_count": 14,
   "metadata": {
    "collapsed": false
   },
   "outputs": [
    {
     "name": "stderr",
     "output_type": "stream",
     "text": [
      "\n",
      "  0%|          | 0/20 [00:00<?, ?it/s]\u001b[A\n",
      "100%|██████████| 20/20 [1:49:49<00:00, 326.82s/it]\n"
     ]
    }
   ],
   "source": [
    "a = np.zeros([20,1000,2])\n",
    "for i in tqdm(range(20)):\n",
    "    test_data = np.loadtxt(protein[i]+'24')\n",
    "    for j in range(20):\n",
    "        l = int(comp_num/20)\n",
    "        test_coordinate = test_data[j*l:j*l+l].reshape([l,num,num,num,24])\n",
    "        test_target = target[i,j*l:j*l+l].reshape([l,1])\n",
    "        a[i,j*l:j*l+l,0]=test_model(test_coordinate,test_target)[0].reshape([l])\n",
    "        a[i,j*l:j*l+l,1]=test_target.reshape([l])"
   ]
  },
  {
   "cell_type": "code",
   "execution_count": 19,
   "metadata": {
    "collapsed": false,
    "scrolled": true
   },
   "outputs": [
    {
     "data": {
      "image/png": "[encoded data removed]",
      "text/plain": [
       "<matplotlib.figure.Figure at 0x7fa72eac50f0>"
      ]
     },
     "metadata": {},
     "output_type": "display_data"
    }
   ],
   "source": [
    "b = a.reshape([20000,2])\n",
    "import matplotlib.pyplot as plt\n",
    "plt.scatter(b[:,0],b[:,1])\n",
    "plt.show()"
   ]
  },
  {
   "cell_type": "code",
   "execution_count": 22,
   "metadata": {
    "collapsed": true
   },
   "outputs": [],
   "source": [
    "import math\n",
    "def linefit(x , y):\n",
    "    N = float(len(x))\n",
    "    sx,sy,sxx,syy,sxy=0,0,0,0,0\n",
    "    for i in range(0,int(N)):\n",
    "        sx  += x[i]\n",
    "        sy  += y[i]\n",
    "        sxx += x[i]*x[i]\n",
    "        syy += y[i]*y[i]\n",
    "        sxy += x[i]*y[i]\n",
    "    a = (sy*sx/N -sxy)/( sx*sx/N -sxx)\n",
    "    b = (sy - a*sx)/N\n",
    "    r = abs(sy*sx/N-sxy)/math.sqrt((sxx-sx*sx/N)*(syy-sy*sy/N))\n",
    "    return a,b,r"
   ]
  },
  {
   "cell_type": "code",
   "execution_count": 24,
   "metadata": {
    "collapsed": false
   },
   "outputs": [
    {
     "data": {
      "text/plain": [
       "(1.0311880791554344, 0.17736816883313586, 0.90151415178234207)"
      ]
     },
     "execution_count": 24,
     "metadata": {},
     "output_type": "execute_result"
    }
   ],
   "source": [
    "linefit(b[:,0],b[:,1])"
   ]
  }
 ],
 "metadata": {
  "kernelspec": {
   "display_name": "Python 3",
   "language": "python",
   "name": "python3"
  },
  "language_info": {
   "codemirror_mode": {
    "name": "ipython",
    "version": 3
   },
   "file_extension": ".py",
   "mimetype": "text/x-python",
   "name": "python",
   "nbconvert_exporter": "python",
   "pygments_lexer": "ipython3",
   "version": "3.6.0"
  }
 },
 "nbformat": 4,
 "nbformat_minor": 2
}
